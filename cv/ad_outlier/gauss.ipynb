{
 "cells": [
  {
   "cell_type": "code",
   "execution_count": null,
   "metadata": {},
   "outputs": [],
   "source": [
    "import numpy as np\n",
    "\n",
    "self.kernel = self.__gaussian_kernel\n",
    "\n",
    "def create_kernel_mtx(self,x1,x2):\n",
    "    x1_ = self.__data_checker(x1)\n",
    "    x2_ = self.__data_checker(x2)\n",
    "    K = np.array(\n",
    "        [self.kernel(_x1, _x2, np.all(_x1==_x2)) for _x1 in x1_ for _x2 in x2_]\n",
    "    )\n",
    "    K = K.reshape(x1_.shape[0], x2_.shape[0])\n",
    "    return K\n",
    "\n",
    "def __gaussian_kernel(self, x, x_prime, delta):\n",
    "    return np.squeeze(\n",
    "        self.theta[0]\n",
    "        * np.exp(-self.theta[1] / 2 * np.linalg.norm(x - x_prime) ** 2)\n",
    "        + self.theta[2]\n",
    "        + self.theta[3] * x.T @ x_prime\n",
    "        + 1 / self. beta * delta\n",
    "    )"
   ]
  }
 ],
 "metadata": {
  "language_info": {
   "name": "python"
  },
  "orig_nbformat": 4
 },
 "nbformat": 4,
 "nbformat_minor": 2
}
